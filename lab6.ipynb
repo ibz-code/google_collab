{
  "nbformat": 4,
  "nbformat_minor": 0,
  "metadata": {
    "colab": {
      "provenance": [],
      "authorship_tag": "ABX9TyOZ+VLguADolXHcTtRoqvkv",
      "include_colab_link": true
    },
    "kernelspec": {
      "name": "python3",
      "display_name": "Python 3"
    },
    "language_info": {
      "name": "python"
    }
  },
  "cells": [
    {
      "cell_type": "markdown",
      "metadata": {
        "id": "view-in-github",
        "colab_type": "text"
      },
      "source": [
        "<a href=\"https://colab.research.google.com/github/ibz-code/google_collab/blob/main/lab6.ipynb\" target=\"_parent\"><img src=\"https://colab.research.google.com/assets/colab-badge.svg\" alt=\"Open In Colab\"/></a>"
      ]
    },
    {
      "cell_type": "code",
      "execution_count": 4,
      "metadata": {
        "colab": {
          "base_uri": "https://localhost:8080/"
        },
        "id": "ajBh2R3tLLdK",
        "outputId": "6394de04-1297-461d-e183-81291ee074eb"
      },
      "outputs": [
        {
          "output_type": "stream",
          "name": "stdout",
          "text": [
            "BFS Search (Shortest Path)\n",
            "Path Found by BFS: ['A', 'B', 'D', 'F']\n"
          ]
        }
      ],
      "source": [
        "from collections import deque\n",
        "\n",
        "graph = {\n",
        "    'A': ['B', 'C'],\n",
        "    'B': ['D'],\n",
        "    'C': ['E'],\n",
        "    'D': ['F'],\n",
        "    'E': ['F'],\n",
        "    'F': []\n",
        "}\n",
        "def bfs(graph, start, goal):\n",
        "    queue = deque([[start]])\n",
        "    visited = set()\n",
        "\n",
        "    while queue:\n",
        "        path = queue.popleft()\n",
        "        node = path[-1]\n",
        "        if node == goal:\n",
        "            return path\n",
        "\n",
        "        if node not in visited:\n",
        "            visited.add(node)\n",
        "            for neighbor in graph[node]:\n",
        "                new_path = list(path)\n",
        "                new_path.append(neighbor)\n",
        "                queue.append(new_path)\n",
        "\n",
        "    return None\n",
        "\n",
        "\n",
        "start_node = 'A'\n",
        "goal_node = 'F'\n",
        "\n",
        "print(\"BFS Search (Shortest Path)\")\n",
        "bfs_path = bfs(graph, start_node, goal_node)\n",
        "print(\"Path Found by BFS:\", bfs_path)"
      ]
    },
    {
      "cell_type": "code",
      "source": [
        "from collections import deque\n",
        "\n",
        "graph = {\n",
        "    'A': ['B', 'C'],\n",
        "    'B': ['D'],\n",
        "    'C': ['E'],\n",
        "    'D': ['F'],\n",
        "    'E': ['F'],\n",
        "    'F': []\n",
        "}\n",
        "def dfs(graph, start, goal):\n",
        "    stack = [[start]]\n",
        "    visited = set()\n",
        "\n",
        "    while stack:\n",
        "        path = stack.pop()\n",
        "        node = path[-1]\n",
        "\n",
        "        if node == goal:\n",
        "            return path\n",
        "\n",
        "        if node not in visited:\n",
        "            visited.add(node)\n",
        "\n",
        "            for neighbor in graph.get(node, []):\n",
        "                new_path = path + [neighbor]\n",
        "                stack.append(new_path)\n",
        "\n",
        "    return None\n",
        "\n",
        "start_node = 'A'\n",
        "goal_node = 'F'\n",
        "\n",
        "print(\"DFS Search (Shortest Path)\")\n",
        "dfs_path = dfs(graph, start_node, goal_node)\n",
        "print(\"Path Found by DFS:\", bfs_path)"
      ],
      "metadata": {
        "colab": {
          "base_uri": "https://localhost:8080/"
        },
        "id": "HiE4tiCHbQDB",
        "outputId": "702d4cbb-b504-47a5-dbd1-c0eb1795ce7f"
      },
      "execution_count": 5,
      "outputs": [
        {
          "output_type": "stream",
          "name": "stdout",
          "text": [
            "DFS Search (Shortest Path)\n",
            "Path Found by DFS: ['A', 'B', 'D', 'F']\n"
          ]
        }
      ]
    }
  ]
}