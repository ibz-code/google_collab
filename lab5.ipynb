{
  "cells": [
    {
      "cell_type": "markdown",
      "metadata": {
        "id": "view-in-github",
        "colab_type": "text"
      },
      "source": [
        "<a href=\"https://colab.research.google.com/github/ibz-code/google_collab/blob/main/lab5.ipynb\" target=\"_parent\"><img src=\"https://colab.research.google.com/assets/colab-badge.svg\" alt=\"Open In Colab\"/></a>"
      ]
    },
    {
      "cell_type": "code",
      "source": [
        "Shopping = [\n",
        "    \"apple\", \"banana\", \"pineapple\"\n",
        "]\n",
        "print(Shopping)"
      ],
      "metadata": {
        "id": "yR-YD8ZCC3Te",
        "colab": {
          "base_uri": "https://localhost:8080/"
        },
        "outputId": "d450e3bd-80d1-497c-ee7e-9d1fdb57824c"
      },
      "execution_count": 2,
      "outputs": [
        {
          "output_type": "stream",
          "name": "stdout",
          "text": [
            "['apple', 'banana', 'pineapple']\n"
          ]
        }
      ]
    },
    {
      "cell_type": "code",
      "source": [
        "def addItem(givenList, item):\n",
        "    givenList.append(item)\n",
        "    print(f\"item added {item}:\")\n"
      ],
      "metadata": {
        "id": "C0lQk-QlOUs-"
      },
      "execution_count": 6,
      "outputs": []
    },
    {
      "cell_type": "code",
      "source": [
        "def remove(givenList, item):\n",
        "  givenList.remove(item)\n",
        "  print(f\"item removed {item}:\")"
      ],
      "metadata": {
        "id": "h2u_OAB3PJ6O"
      },
      "execution_count": null,
      "outputs": []
    },
    {
      "cell_type": "code",
      "source": [
        "Shopping.append(\"grapes\")\n",
        "Shopping.append(\"avacado\")"
      ],
      "metadata": {
        "id": "mcK5fNq1No2s"
      },
      "execution_count": 4,
      "outputs": []
    },
    {
      "cell_type": "code",
      "source": [
        "print(Shopping)"
      ],
      "metadata": {
        "colab": {
          "base_uri": "https://localhost:8080/"
        },
        "id": "oP-sMjIFONSn",
        "outputId": "420423c5-94a1-412d-e25f-67e8f0788e42"
      },
      "execution_count": 5,
      "outputs": [
        {
          "output_type": "stream",
          "name": "stdout",
          "text": [
            "['apple', 'banana', 'pineapple', 'mango', 'grapes', 'avacado']\n"
          ]
        }
      ]
    },
    {
      "cell_type": "code",
      "source": [],
      "metadata": {
        "id": "cZP0HCdkPoPv"
      },
      "execution_count": null,
      "outputs": []
    },
    {
      "cell_type": "markdown",
      "source": [
        "Question no 4:\n",
        "Define a library database as a dictionary where the keys are book titles and the values are tuples containing book information such as author, genre, publication year, and availability status. Initializethe database withat least five books.\n",
        "Implement the following functionalities:\n",
        "1.1. Add a new book to the library.\n",
        "1.2. Remove a book from the library.\n",
        "1.3. Update a book's information.\n",
        "1.4. Display all books'information.\n",
        "1.5. Search for books by title, author, or genre.\n",
        "1.6. Allow users to borrow and return books.\n",
        "2. Ensure user-friendly interactions. Display appropriate messages for each action.\n",
        "3. Implement a basic user authentication system where users have to enter a username and pas\n"
      ],
      "metadata": {
        "id": "WpuwldvUP0IV"
      }
    },
    {
      "cell_type": "code",
      "source": [
        "Database = {\n",
        "    \"harryPotter\":(1, \"wooman\", \"supense\", 2000, \"available\"),\n",
        "    \"power\":(2, \"chi tan\", \"fiction\", 2010, \"available\"),\n",
        "    \"ikigai\":(3, \"lili\", \"supense\", 2005, \"available\"),\n",
        "    \"peace\":(4, \"maeesh\", \"mythology\", 2003, \"available\"),\n",
        "    \"thousand sin\":(5, \"tilman\", \"story\", 1900, \"unavailable\"),\n",
        "}"
      ],
      "metadata": {
        "id": "Ho9Xuom_QApC"
      },
      "execution_count": 10,
      "outputs": []
    },
    {
      "cell_type": "code",
      "source": [
        "print(Database)"
      ],
      "metadata": {
        "colab": {
          "base_uri": "https://localhost:8080/"
        },
        "id": "XxAheqHJR9Ly",
        "outputId": "8c863a00-9d56-4513-c28c-4a94aaadaa8c"
      },
      "execution_count": 35,
      "outputs": [
        {
          "output_type": "stream",
          "name": "stdout",
          "text": [
            "{'harryPotter': (1, 'wooman', 'supense', 2000, 'available'), 'ikigai': (3, 'lili', 'supense', 2005, 'available'), 'peace': (4, 'maeesh', 'mythology', 2003, 'available'), 'thousand sin': (5, 'tilman', 'story', 1900, 'unavailable'), 'new world': ('alex', 6, 'fiction', 2021, 'available')}\n"
          ]
        }
      ]
    },
    {
      "cell_type": "code",
      "source": [
        "def addBook(dictionaryName, bookName, book_id, author, genre, year, status):\n",
        "  if bookName in dictionaryName:\n",
        "    print(f\"{bookName} already present\")\n",
        "  else:\n",
        "    Database[bookName] = (book_id, author, genre, year, status)\n",
        "    print(f\"{bookName} has has been added\")"
      ],
      "metadata": {
        "id": "qIVLzH7yUHE6"
      },
      "execution_count": 20,
      "outputs": []
    },
    {
      "cell_type": "code",
      "source": [
        "def removeBook(dictionaryName, bookName):\n",
        "  if bookName in dictionaryName:\n",
        "    del dictionaryName[bookName]\n",
        "    print(f\"{bookName} has been deleted\")\n",
        "  else:\n",
        "    print(f\"{bookName} has has not been found\")"
      ],
      "metadata": {
        "id": "584bxJcISK1z"
      },
      "execution_count": 21,
      "outputs": []
    },
    {
      "cell_type": "code",
      "source": [
        "def updateBook(dictionaryName, bookName, author=None, genre=None, year=None, available=None):\n",
        "    if bookName in dictionaryName:\n",
        "        author = author or dictionaryName[bookName][1]\n",
        "        genre = genre or dictionaryName[bookName][2]\n",
        "        year = year or dictionaryName[bookName][3]\n",
        "        available = available if available is not None else dictionaryName[bookName][4]\n",
        "        dictionaryName[bookName] = (author, genre, year, available)\n",
        "        print(f\"'{bookName}' has been updated.\")\n",
        "    else:\n",
        "        print(f\"'{bookName}' not found.\")\n"
      ],
      "metadata": {
        "id": "8ZLp4SvXX6Lm"
      },
      "execution_count": 42,
      "outputs": []
    },
    {
      "cell_type": "code",
      "source": [
        "def displayBooks(dictionaryName):\n",
        "    print(\"\\nLibrary Catalog:\")\n",
        "    for title, info in dictionaryName.items():\n",
        "        status = \"Available\" if info[3] else \"Borrowed\"\n",
        "        print(f\"Title: {title}\\n  Author: {info[1]}\\n  Genre: {info[2]}\\n  Year: {info[3]}\\n  Status: {info[4]}\\n\")\n",
        "\n"
      ],
      "metadata": {
        "id": "mnQBYmlFZF7m"
      },
      "execution_count": 41,
      "outputs": []
    },
    {
      "cell_type": "code",
      "source": [
        "def searchBook(dictionaryName, searchKeyword):\n",
        "    print(f\"\\nSearch results for '{searchKeyword}':\")\n",
        "    found = False\n",
        "    keyword = searchKeyword.lower()\n",
        "    for title, info in dictionaryName.items():\n",
        "        if (keyword in title.lower() or\n",
        "            keyword in info[1].lower() or\n",
        "            keyword in info[2].lower()):\n",
        "            print(f\"Title: {title}, Author: {info[1]}, Genre: {info[2]}, Year: {info[3]}, Status: {info[4]}\")\n",
        "            found = True\n",
        "    if not found:\n",
        "        print(\"No matching books found.\")\n"
      ],
      "metadata": {
        "id": "eZcJNNkAckTU"
      },
      "execution_count": 40,
      "outputs": []
    },
    {
      "cell_type": "code",
      "source": [
        "def borrowBook(dictionaryName, bookName):\n",
        "    if bookName in dictionaryName:\n",
        "        book = dictionaryName[bookName]\n",
        "        if book[4].lower() == \"available\":\n",
        "            dictionaryName[bookName] = (book[0], book[1], book[2], book[3], \"unavailable\")\n",
        "            print(f\"'{bookName}' has been borrowed.\")\n",
        "        else:\n",
        "            print(f\"'{bookName}' is currently unavailable.\")\n",
        "    else:\n",
        "        print(f\"'{bookName}' not found in the database.\")\n",
        "\n",
        "def returnBook(dictionaryName, bookName):\n",
        "    if bookName in dictionaryName:\n",
        "        book = dictionaryName[bookName]\n",
        "        if book[4].lower() == \"unavailable\":\n",
        "            dictionaryName[bookName] = (book[0], book[1], book[2], book[3], \"available\")\n",
        "            print(f\"'{bookName}' has been returned and is now available.\")\n",
        "        else:\n",
        "            print(f\"'{bookName}' was not borrowed.\")"
      ],
      "metadata": {
        "id": "55JBJ6pwdogW"
      },
      "execution_count": 39,
      "outputs": []
    },
    {
      "cell_type": "code",
      "source": [
        "def findBook(dictionaryName)"
      ],
      "metadata": {
        "id": "gvIzVSveazDg"
      },
      "execution_count": null,
      "outputs": []
    },
    {
      "cell_type": "code",
      "source": [
        "def main():\n",
        "    while True:\n",
        "        print(\"\\nLibrary Management System\")\n",
        "        print(\"1. Add Book\")\n",
        "        print(\"2. Remove Book\")\n",
        "        print(\"3. Update Book\")\n",
        "        print(\"4. Display All Books\")\n",
        "        print(\"5. Search Book\")\n",
        "        print(\"6. Borrow Book\")\n",
        "        print(\"7. Return Book\")\n",
        "        print(\"8. Exit\")\n",
        "\n",
        "        choice = input(\"Enter your choice (1-8): \")\n",
        "\n",
        "        if choice == '1':\n",
        "            title = input(\"Enter title: \")\n",
        "            author = input(\"Enter author: \")\n",
        "            genre = input(\"Enter genre: \")\n",
        "            year = int(input(\"Enter publication year: \"))\n",
        "            addBook(Database, title, author, genre, year)\n",
        "\n",
        "        elif choice == '2':\n",
        "            title = input(\"Enter title to remove: \")\n",
        "            removeBook(Database, title)\n",
        "\n",
        "        elif choice == '3':\n",
        "            title = input(\"Enter title to update: \")\n",
        "            author = input(\"Enter new author (or press Enter to skip): \") or None\n",
        "            genre = input(\"Enter new genre (or press Enter to skip): \") or None\n",
        "            year_input = input(\"Enter new year (or press Enter to skip): \")\n",
        "            year = int(year_input) if year_input else None\n",
        "            available_input = input(\"Is the book available? (yes/no or press Enter to skip): \").lower()\n",
        "            available = True if available_input == 'yes' else False if available_input == 'no' else None\n",
        "            updateBook(Database, title, author, genre, year, available)\n",
        "\n",
        "        elif choice == '4':\n",
        "            displayBooks(Database)\n",
        "\n",
        "        elif choice == '5':\n",
        "            keyword = input(\"Enter title, author, or genre to search: \")\n",
        "            searchBook(Database, keyword)\n",
        "\n",
        "        elif choice == '6':\n",
        "            title = input(\"Enter title to borrow: \")\n",
        "            borrowBook(title)\n",
        "\n",
        "        elif choice == '7':\n",
        "            title = input(\"Enter title to return: \")\n",
        "            returnBook(Database, title)\n",
        "\n",
        "        elif choice == '8':\n",
        "            print(\"Exiting program. Goodbye!\")\n",
        "            break\n",
        "\n",
        "        else:\n",
        "            print(\"Invalid choice. Please try again.\")\n"
      ],
      "metadata": {
        "id": "fGy_Rj7tUrw5"
      },
      "execution_count": 49,
      "outputs": []
    },
    {
      "cell_type": "code",
      "source": [
        "main()"
      ],
      "metadata": {
        "colab": {
          "base_uri": "https://localhost:8080/"
        },
        "id": "5l-3OuPIWTUM",
        "outputId": "2573662e-6823-464d-85f3-1ff405c95048"
      },
      "execution_count": 50,
      "outputs": [
        {
          "output_type": "stream",
          "name": "stdout",
          "text": [
            "\n",
            "Library Management System\n",
            "1. Add Book\n",
            "2. Remove Book\n",
            "3. Update Book\n",
            "4. Display All Books\n",
            "5. Search Book\n",
            "6. Borrow Book\n",
            "7. Return Book\n",
            "8. Exit\n",
            "Enter your choice (1-8): 4\n",
            "\n",
            "Library Catalog:\n",
            "Title: harryPotter\n",
            "  Author: wooman\n",
            "  Genre: supense\n",
            "  Year: 2000\n",
            "  Status: available\n",
            "\n",
            "Title: ikigai\n",
            "  Author: lili\n",
            "  Genre: supense\n",
            "  Year: 2005\n",
            "  Status: available\n",
            "\n",
            "Title: peace\n",
            "  Author: maeesh\n",
            "  Genre: mythology\n",
            "  Year: 2003\n",
            "  Status: available\n",
            "\n",
            "Title: thousand sin\n",
            "  Author: tilman\n",
            "  Genre: story\n",
            "  Year: 1900\n",
            "  Status: unavailable\n",
            "\n",
            "Title: new world\n",
            "  Author: 6\n",
            "  Genre: fiction\n",
            "  Year: 2021\n",
            "  Status: available\n",
            "\n",
            "\n",
            "Library Management System\n",
            "1. Add Book\n",
            "2. Remove Book\n",
            "3. Update Book\n",
            "4. Display All Books\n",
            "5. Search Book\n",
            "6. Borrow Book\n",
            "7. Return Book\n",
            "8. Exit\n",
            "Enter your choice (1-8): 8\n",
            "Exiting program. Goodbye!\n"
          ]
        }
      ]
    },
    {
      "cell_type": "code",
      "source": [],
      "metadata": {
        "id": "iIkriLVAWWN-"
      },
      "execution_count": null,
      "outputs": []
    }
  ],
  "metadata": {
    "colab": {
      "toc_visible": true,
      "provenance": [],
      "include_colab_link": true
    },
    "kernelspec": {
      "display_name": "Python 3",
      "name": "python3"
    }
  },
  "nbformat": 4,
  "nbformat_minor": 0
}